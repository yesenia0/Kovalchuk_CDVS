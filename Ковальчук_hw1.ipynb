{
 "cells": [
  {
   "cell_type": "code",
   "execution_count": 1,
   "id": "6c80b9cb",
   "metadata": {},
   "outputs": [],
   "source": [
    "import numpy as np"
   ]
  },
  {
   "cell_type": "markdown",
   "id": "bdc4ce48",
   "metadata": {},
   "source": [
    "# Завдання 1. Робота з бібліотекою Numpy "
   ]
  },
  {
   "cell_type": "code",
   "execution_count": 2,
   "id": "d2283d32",
   "metadata": {},
   "outputs": [
    {
     "name": "stdout",
     "output_type": "stream",
     "text": [
      "Одновимірний масив:\n",
      "[ 1  2  3  4  5  6  7  8  9 10 11 12 13 14 15 16 17 18 19 20]\n"
     ]
    }
   ],
   "source": [
    "# 1.Створення одновимірного масиву з першими 20-ма натуральними числами\n",
    "vector = np.arange(1, 21)\n",
    "print(\"Одновимірний масив:\")\n",
    "print(vector)"
   ]
  },
  {
   "cell_type": "code",
   "execution_count": 3,
   "id": "69a54c1a",
   "metadata": {},
   "outputs": [
    {
     "name": "stdout",
     "output_type": "stream",
     "text": [
      "\n",
      "Двовимірний масив 4x4:\n",
      "[[1. 1. 1. 1.]\n",
      " [1. 1. 1. 1.]\n",
      " [1. 1. 1. 1.]\n",
      " [1. 1. 1. 1.]]\n"
     ]
    }
   ],
   "source": [
    "# 2.Створення двовимірного масиву (матриці) 4x4, заповненого одиницями\n",
    "matrix_4x4 = np.ones((4, 4))\n",
    "print(\"\\nДвовимірний масив 4x4:\")\n",
    "print(matrix_4x4)"
   ]
  },
  {
   "cell_type": "code",
   "execution_count": 4,
   "id": "ddc58cc6",
   "metadata": {},
   "outputs": [
    {
     "name": "stdout",
     "output_type": "stream",
     "text": [
      "\n",
      "Масив 5x5 з випадковими дійсними числами від -1 до 1:\n",
      "[[ 0.94386473  0.86078578 -0.42435278 -0.35436724 -0.55513293]\n",
      " [ 0.76952744 -0.40731086 -0.8054912  -0.88699216  0.38672927]\n",
      " [-0.30244507 -0.76195092 -0.56441912 -0.98275327  0.57018825]\n",
      " [ 0.02279458  0.75208084  0.93050457 -0.30871695 -0.287737  ]\n",
      " [-0.38395373 -0.92734465 -0.99812053 -0.54384035 -0.14344849]]\n"
     ]
    }
   ],
   "source": [
    "# 3.Створення масиву 5x5 з випадковими дійсними числами від -1 до 1\n",
    "random_matrix_5x5 = np.random.uniform(-1, 1, (5, 5))\n",
    "print(\"\\nМасив 5x5 з випадковими дійсними числами від -1 до 1:\")\n",
    "print(random_matrix_5x5)"
   ]
  },
  {
   "cell_type": "code",
   "execution_count": 5,
   "id": "78567666",
   "metadata": {},
   "outputs": [
    {
     "name": "stdout",
     "output_type": "stream",
     "text": [
      "\n",
      "Масив 3x3 з випадковими дійсними числами від 0 до 1:\n",
      "[[0.84193866 0.23199767 0.3773022 ]\n",
      " [0.64335612 0.90158394 0.56268071]\n",
      " [0.63691695 0.99120409 0.85804262]]\n"
     ]
    }
   ],
   "source": [
    "# 4.Створення масиву 3x3 з випадковими дійсними числами від 0 до 1\n",
    "random_matrix_3x3 = np.random.rand(3, 3)\n",
    "print(\"\\nМасив 3x3 з випадковими дійсними числами від 0 до 1:\")\n",
    "print(random_matrix_3x3)"
   ]
  },
  {
   "cell_type": "code",
   "execution_count": 6,
   "id": "db42ac9c",
   "metadata": {},
   "outputs": [],
   "source": [
    "# 5.Створення двох одновимірних масивів розміром 6 з випадковими цілими числами від 1 до 20\n",
    "array1 = np.random.randint(1, 21, 6)\n",
    "array2 = np.random.randint(1, 21, 6)"
   ]
  },
  {
   "cell_type": "code",
   "execution_count": 7,
   "id": "2e8991c6",
   "metadata": {},
   "outputs": [
    {
     "name": "stdout",
     "output_type": "stream",
     "text": [
      "\n",
      "Одновимірний масив 1: [18 10 12 19  1 12]\n",
      "Одновимірний масив 2: [ 5 12 15  5 16 16]\n",
      "Додавання: [23 22 27 24 17 28]\n",
      "Віднімання: [ 13  -2  -3  14 -15  -4]\n",
      "Множення: [ 90 120 180  95  16 192]\n"
     ]
    }
   ],
   "source": [
    "# Виконання поелементних операцій додавання, віднімання та множення\n",
    "add_result = array1 + array2\n",
    "subtract_result = array1 - array2\n",
    "multiply_result = array1 * array2\n",
    "print(\"\\nОдновимірний масив 1:\", array1)\n",
    "print(\"Одновимірний масив 2:\", array2)\n",
    "print(\"Додавання:\", add_result)\n",
    "print(\"Віднімання:\", subtract_result)\n",
    "print(\"Множення:\", multiply_result)"
   ]
  },
  {
   "cell_type": "code",
   "execution_count": 8,
   "id": "35e8e012",
   "metadata": {},
   "outputs": [],
   "source": [
    "# 6.Створення двох матриць розміром 3x2 та 2x4 з випадковими цілими числами від 1 до 5\n",
    "matrix1 = np.random.randint(1, 6, (3, 2))\n",
    "matrix2 = np.random.randint(1, 6, (2, 4))"
   ]
  },
  {
   "cell_type": "code",
   "execution_count": 9,
   "id": "2e25128c",
   "metadata": {},
   "outputs": [
    {
     "name": "stdout",
     "output_type": "stream",
     "text": [
      "\n",
      "Перша матриця 3x2:\n",
      "[[1 2]\n",
      " [4 2]\n",
      " [3 2]]\n",
      "Друга матриця 2x4:\n",
      "[[3 4 4 3]\n",
      " [1 2 4 4]]\n",
      "Результат множення матриць:\n",
      "[[ 5  8 12 11]\n",
      " [14 20 24 20]\n",
      " [11 16 20 17]]\n"
     ]
    }
   ],
   "source": [
    "# Перемноження матриць\n",
    "matrix_multiply_result = np.dot(matrix1, matrix2)\n",
    "\n",
    "print(\"\\nПерша матриця 3x2:\")\n",
    "print(matrix1)\n",
    "print(\"Друга матриця 2x4:\")\n",
    "print(matrix2)\n",
    "print(\"Результат множення матриць:\")\n",
    "print(matrix_multiply_result)"
   ]
  },
  {
   "cell_type": "code",
   "execution_count": 10,
   "id": "a555bb1b",
   "metadata": {},
   "outputs": [
    {
     "name": "stdout",
     "output_type": "stream",
     "text": [
      "Початкова матриця:\n",
      "[[0.80330332 0.44786339 0.5055987 ]\n",
      " [0.54925376 0.22662372 0.63794301]\n",
      " [0.708403   0.85373838 0.89794647]]\n",
      "Транспонована матриця:\n",
      "[[0.80330332 0.54925376 0.708403  ]\n",
      " [0.44786339 0.22662372 0.85373838]\n",
      " [0.5055987  0.63794301 0.89794647]]\n"
     ]
    }
   ],
   "source": [
    "#7. Створення матриці 3x3 з випадковими дійсними числами від 0 до 1\n",
    "matrix = np.random.rand(3, 3)\n",
    "print(\"Початкова матриця:\")\n",
    "print(matrix)\n",
    "\n",
    "# Транспонування матриці\n",
    "transposed_matrix = np.transpose(matrix)\n",
    "print(\"Транспонована матриця:\")\n",
    "print(transposed_matrix)"
   ]
  },
  {
   "cell_type": "code",
   "execution_count": 11,
   "id": "ed1aaf27",
   "metadata": {},
   "outputs": [
    {
     "name": "stdout",
     "output_type": "stream",
     "text": [
      "Перша матриця:\n",
      "[[ 4  7 10]\n",
      " [ 2  3  4]\n",
      " [10 10  8]]\n",
      "Друга матриця:\n",
      "[[4 6 1]\n",
      " [9 7 6]\n",
      " [2 5 9]]\n",
      "Різниця між матрицями:\n",
      "[[ 0  1  9]\n",
      " [-7 -4 -2]\n",
      " [ 8  5 -1]]\n"
     ]
    }
   ],
   "source": [
    "# 8.Створення двох матриць 3x3 з випадковими цілими числами від 1 до 10\n",
    "matrix1 = np.random.randint(1, 11, (3, 3))\n",
    "matrix2 = np.random.randint(1, 11, (3, 3))\n",
    "\n",
    "# Знаходження різниці між матрицями\n",
    "matrix_diff = matrix1 - matrix2\n",
    "print(\"Перша матриця:\")\n",
    "print(matrix1)\n",
    "print(\"Друга матриця:\")\n",
    "print(matrix2)\n",
    "print(\"Різниця між матрицями:\")\n",
    "print(matrix_diff)"
   ]
  },
  {
   "cell_type": "code",
   "execution_count": 12,
   "id": "22cc67f4",
   "metadata": {},
   "outputs": [
    {
     "name": "stdout",
     "output_type": "stream",
     "text": [
      "Перша матриця:\n",
      "[[ 1 -4 -3]\n",
      " [ 5  4  3]\n",
      " [ 0 -1  0]]\n",
      "Друга матриця:\n",
      "[[ 4  0  1]\n",
      " [ 1 -3  2]\n",
      " [-5 -2  2]]\n",
      "Добуток матриць:\n",
      "[[ 15  18 -13]\n",
      " [  9 -18  19]\n",
      " [ -1   3  -2]]\n"
     ]
    }
   ],
   "source": [
    "# 9.Створення двох матриць 3x3 з випадковими цілими числами від -5 до 5\n",
    "matrix1 = np.random.randint(-5, 6, (3, 3))\n",
    "matrix2 = np.random.randint(-5, 6, (3, 3))\n",
    "\n",
    "# Знаходження добутку матриць\n",
    "matrix_product = np.dot(matrix1, matrix2)\n",
    "print(\"Перша матриця:\")\n",
    "print(matrix1)\n",
    "print(\"Друга матриця:\")\n",
    "print(matrix2)\n",
    "print(\"Добуток матриць:\")\n",
    "print(matrix_product)"
   ]
  },
  {
   "cell_type": "code",
   "execution_count": 13,
   "id": "db413810",
   "metadata": {},
   "outputs": [
    {
     "name": "stdout",
     "output_type": "stream",
     "text": [
      "Матриця:\n",
      "[[ 0.83987398 -0.55158507 -0.65619673]\n",
      " [ 0.26770566 -0.47088994 -0.8068371 ]\n",
      " [ 0.32192963 -0.54337441 -0.85627719]]\n",
      "Суми елементів кожного рядка:\n",
      "[-0.36790781 -1.01002139 -1.07772196]\n"
     ]
    }
   ],
   "source": [
    "# 10.Створення матриці 3x3 з випадковими дійсними числами від -1 до 1\n",
    "matrix = np.random.uniform(-1, 1, (3, 3))\n",
    "print(\"Матриця:\")\n",
    "print(matrix)\n",
    "\n",
    "# Знаходження вектор-стовпчика з сумами елементів кожного рядка\n",
    "row_sums = np.sum(matrix, axis=1)\n",
    "print(\"Суми елементів кожного рядка:\")\n",
    "print(row_sums)"
   ]
  },
  {
   "cell_type": "markdown",
   "id": "0b9c658a",
   "metadata": {},
   "source": [
    "# Завдання 2. Робота з бібліотекою Pandas"
   ]
  },
  {
   "cell_type": "code",
   "execution_count": 14,
   "id": "38ee6aa1",
   "metadata": {},
   "outputs": [],
   "source": [
    "import pandas as pd"
   ]
  },
  {
   "cell_type": "code",
   "execution_count": 15,
   "id": "331db4b1",
   "metadata": {},
   "outputs": [],
   "source": [
    "url = \"https://uk.wikipedia.org/wiki/%D0%9D%D0%B0%D1%80%D0%BE%D0%B4%D0%B6%D1%83%D0%B2%D0%B0%D0%BD%D1%96%D1%81%D1%82%D1%8C_%D0%B2_%D0%A3%D0%BA%D1%80%D0%B0%D1%97%D0%BD%D1%96\"\n",
    "dataframes = pd.read_html(url, header=0)\n",
    "df = dataframes[20]"
   ]
  },
  {
   "cell_type": "code",
   "execution_count": 16,
   "id": "a7c433f9",
   "metadata": {},
   "outputs": [
    {
     "name": "stdout",
     "output_type": "stream",
     "text": [
      "Перші 10 рядків таблиці:\n",
      "                      регіон   1950   1960   1970  1990  1992  1994  1996  \\\n",
      "0  Автономна Республіка Крим  230.0  206.0  160.0   130   109    93    80   \n",
      "1          Вінницька область  224.0  192.0  142.0   124   119   107   103   \n",
      "2          Волинська область  247.0  250.0  179.0   153   150   137   125   \n",
      "3   Дніпропетровська область  204.0  204.0  151.0   123   106    92    80   \n",
      "4           Донецька область  271.0  214.0  140.0   109    94    82    70   \n",
      "5        Житомирська область  261.0  223.0  159.0   129   128   118   108   \n",
      "6       Закарпатська область  314.0  273.0  207.0   168   161   138   128   \n",
      "7         Запорізька область  219.0  197.0  150.0   124   107    92    81   \n",
      "8  Івано-Франківська область  243.0  248.0  182.0   155   144   131   122   \n",
      "9           Київська область  204.0  189.0  156.0   123   111    99    92   \n",
      "\n",
      "   2000  2004  2008  2012   2014  \n",
      "0    73    90   119   126    NaN  \n",
      "1    84    90   108   112  109.0  \n",
      "2   112   119   148   148  141.0  \n",
      "3    71    89   110   112  111.0  \n",
      "4    61    76    98    98   82.0  \n",
      "5    89    98   113   122  120.0  \n",
      "6   115   124   147   151  146.0  \n",
      "7    71    85   103   106  106.0  \n",
      "8   103   107   123   124  122.0  \n",
      "9    73    90   117   122  121.0  \n"
     ]
    }
   ],
   "source": [
    "#1.Відобразити перші 10 рядків таблиці за допомогою методу head \n",
    "print(\"Перші 10 рядків таблиці:\")\n",
    "print(df.head(10))"
   ]
  },
  {
   "cell_type": "code",
   "execution_count": 17,
   "id": "74b1bd6d",
   "metadata": {},
   "outputs": [
    {
     "name": "stdout",
     "output_type": "stream",
     "text": [
      "\n",
      "Кількість рядків і стовпців:\n",
      "(28, 13)\n"
     ]
    }
   ],
   "source": [
    "#2.Визначити кількість рядків і стовпців в датафрейме (метод shape) \n",
    "print(\"\\nКількість рядків і стовпців:\")\n",
    "print(df.shape)"
   ]
  },
  {
   "cell_type": "code",
   "execution_count": 18,
   "id": "b168b5e4",
   "metadata": {},
   "outputs": [],
   "source": [
    "#3.Замініть значення \"—\" в таблиці значеннями NaN \n",
    "df = df.replace(\"—\", np.nan)"
   ]
  },
  {
   "cell_type": "code",
   "execution_count": 19,
   "id": "d42f03e6",
   "metadata": {},
   "outputs": [
    {
     "name": "stdout",
     "output_type": "stream",
     "text": [
      "\n",
      "Типи стовпців:\n",
      "регіон     object\n",
      "1950      float64\n",
      "1960      float64\n",
      "1970      float64\n",
      "1990        int64\n",
      "1992        int64\n",
      "1994        int64\n",
      "1996        int64\n",
      "2000        int64\n",
      "2004        int64\n",
      "2008        int64\n",
      "2012        int64\n",
      "2014      float64\n",
      "dtype: object\n"
     ]
    }
   ],
   "source": [
    "#4.Визначте типи всіх стовпців за допомогою dataframe.dtypes \n",
    "print(\"\\nТипи стовпців:\")\n",
    "print(df.dtypes)\n"
   ]
  },
  {
   "cell_type": "code",
   "execution_count": 20,
   "id": "35242afb",
   "metadata": {},
   "outputs": [],
   "source": [
    "#5.Замініть типи нечислових стовпців числовими стовпцями. Це стовпці, у яких було розташовано символ \"—\" \n",
    "non_numeric_columns = df.columns[1:]\n",
    "df[non_numeric_columns] = df[non_numeric_columns].apply(pd.to_numeric, errors='coerce')"
   ]
  },
  {
   "cell_type": "code",
   "execution_count": 21,
   "id": "797966e5",
   "metadata": {},
   "outputs": [
    {
     "name": "stdout",
     "output_type": "stream",
     "text": [
      "\n",
      "Кількість пропущених значень у кожному стовпці:\n",
      "регіон    0\n",
      "1950      2\n",
      "1960      1\n",
      "1970      1\n",
      "1990      0\n",
      "1992      0\n",
      "1994      0\n",
      "1996      0\n",
      "2000      0\n",
      "2004      0\n",
      "2008      0\n",
      "2012      0\n",
      "2014      2\n",
      "dtype: int64\n"
     ]
    }
   ],
   "source": [
    "#6.Обчислити, скільки проміжків у кожному стовпці (використовуйте методи isnull, sum та len) \n",
    "print(\"\\nКількість пропущених значень у кожному стовпці:\")\n",
    "print(df.isnull().sum())"
   ]
  },
  {
   "cell_type": "code",
   "execution_count": 22,
   "id": "ae3d1641",
   "metadata": {},
   "outputs": [],
   "source": [
    "#7.Видалити дані для всієї країни з таблиці в останньому рядку таблиці \n",
    "df = df.iloc[:-1]"
   ]
  },
  {
   "cell_type": "code",
   "execution_count": 23,
   "id": "82298fa4",
   "metadata": {},
   "outputs": [
    {
     "name": "stderr",
     "output_type": "stream",
     "text": [
      "C:\\Users\\E L I T E B O O K\\AppData\\Local\\Temp\\ipykernel_6692\\1380246680.py:2: FutureWarning: The default value of numeric_only in DataFrame.mean is deprecated. In a future version, it will default to False. In addition, specifying 'numeric_only=None' is deprecated. Select only valid columns or specify the value of numeric_only to silence this warning.\n",
      "  df.fillna(df.mean(), inplace=True)\n"
     ]
    }
   ],
   "source": [
    "#8.Замінити пропущені дані у стовпцях середніми значеннями за стовпчиком  (метод fillna) \n",
    "df.fillna(df.mean(), inplace=True)"
   ]
  },
  {
   "cell_type": "code",
   "execution_count": 24,
   "id": "7b4cdc65",
   "metadata": {},
   "outputs": [
    {
     "name": "stdout",
     "output_type": "stream",
     "text": [
      "\n",
      "Регіони з народжуваністю вищою за середню у 2014 році:\n",
      "                       регіон    1950   1960   1970  1990  1992  1994  1996  \\\n",
      "2           Волинська область  247.00  250.0  179.0   153   150   137   125   \n",
      "5         Житомирська область  261.00  223.0  159.0   129   128   118   108   \n",
      "6        Закарпатська область  314.00  273.0  207.0   168   161   138   128   \n",
      "8   Івано-Франківська область  243.00  248.0  182.0   155   144   131   122   \n",
      "9            Київська область  204.00  189.0  156.0   123   111    99    92   \n",
      "12          Львівська область  234.00  240.0  171.0   140   132   117   111   \n",
      "13       Миколаївська область  211.00  194.0  155.0   137   123   107    96   \n",
      "14            Одеська область  241.00  192.0  148.0   126   114   100    92   \n",
      "16         Рівненська область  269.00  267.0  193.0   158   154   145   132   \n",
      "20         Херсонська область  208.00  214.0  166.0   143   130   111    98   \n",
      "21        Хмельницька область  234.00  198.0  148.0   129   124   111   106   \n",
      "23        Чернівецька область  247.00  218.0  170.0   148   140   128   121   \n",
      "25                       Київ  231.04  174.0  159.0   120    97    81    76   \n",
      "\n",
      "    2000  2004  2008  2012   2014  \n",
      "2    112   119   148   148  141.0  \n",
      "5     89    98   113   122  120.0  \n",
      "6    115   124   147   151  146.0  \n",
      "8    103   107   123   124  122.0  \n",
      "9     73    90   117   122  121.0  \n",
      "12    91   101   113   119  119.0  \n",
      "13    80    90   112   115  112.0  \n",
      "14    80    96   120   127  123.0  \n",
      "16   118   125   148   159  148.0  \n",
      "20    85    91   113   117  115.0  \n",
      "21    85    91   110   113  112.0  \n",
      "23   101   106   122   128  129.0  \n",
      "25    73    98   116   120  121.0  \n"
     ]
    }
   ],
   "source": [
    "#9.Отримайте список регіонів, де народжуваність у 2014 році була вищою за середню по Україні \n",
    "regions_higher_than_average = df[df[\"2014\"] > df[\"2014\"].mean()]\n",
    "\n",
    "print(\"\\nРегіони з народжуваністю вищою за середню у 2014 році:\")\n",
    "print(regions_higher_than_average)"
   ]
  },
  {
   "cell_type": "code",
   "execution_count": 31,
   "id": "80267095",
   "metadata": {},
   "outputs": [
    {
     "ename": "KeyError",
     "evalue": "\"['2010'] not in index\"",
     "output_type": "error",
     "traceback": [
      "\u001b[1;31m---------------------------------------------------------------------------\u001b[0m",
      "\u001b[1;31mKeyError\u001b[0m                                  Traceback (most recent call last)",
      "Cell \u001b[1;32mIn[31], line 2\u001b[0m\n\u001b[0;32m      1\u001b[0m \u001b[38;5;66;03m#10.В якому регіоні була найвища народжуваність у 2010 та 2012 роках (окремо). \u001b[39;00m\n\u001b[1;32m----> 2\u001b[0m data_2010 \u001b[38;5;241m=\u001b[39m df[[\u001b[38;5;124m'\u001b[39m\u001b[38;5;124mрегіон\u001b[39m\u001b[38;5;124m'\u001b[39m, \u001b[38;5;124m'\u001b[39m\u001b[38;5;124m2010\u001b[39m\u001b[38;5;124m'\u001b[39m]]\u001b[38;5;241m.\u001b[39mmax()\n\u001b[0;32m      3\u001b[0m max_2012 \u001b[38;5;241m=\u001b[39m  df[\u001b[38;5;124m'\u001b[39m\u001b[38;5;124m2012\u001b[39m\u001b[38;5;124m'\u001b[39m]\u001b[38;5;241m.\u001b[39midxmax()\n\u001b[0;32m      4\u001b[0m max_region_2012 \u001b[38;5;241m=\u001b[39m df\u001b[38;5;241m.\u001b[39mloc[max_2012][\u001b[38;5;124m'\u001b[39m\u001b[38;5;124mрегіон\u001b[39m\u001b[38;5;124m'\u001b[39m]\n",
      "File \u001b[1;32mD:\\anaconda\\Lib\\site-packages\\pandas\\core\\frame.py:3813\u001b[0m, in \u001b[0;36mDataFrame.__getitem__\u001b[1;34m(self, key)\u001b[0m\n\u001b[0;32m   3811\u001b[0m     \u001b[38;5;28;01mif\u001b[39;00m is_iterator(key):\n\u001b[0;32m   3812\u001b[0m         key \u001b[38;5;241m=\u001b[39m \u001b[38;5;28mlist\u001b[39m(key)\n\u001b[1;32m-> 3813\u001b[0m     indexer \u001b[38;5;241m=\u001b[39m \u001b[38;5;28mself\u001b[39m\u001b[38;5;241m.\u001b[39mcolumns\u001b[38;5;241m.\u001b[39m_get_indexer_strict(key, \u001b[38;5;124m\"\u001b[39m\u001b[38;5;124mcolumns\u001b[39m\u001b[38;5;124m\"\u001b[39m)[\u001b[38;5;241m1\u001b[39m]\n\u001b[0;32m   3815\u001b[0m \u001b[38;5;66;03m# take() does not accept boolean indexers\u001b[39;00m\n\u001b[0;32m   3816\u001b[0m \u001b[38;5;28;01mif\u001b[39;00m \u001b[38;5;28mgetattr\u001b[39m(indexer, \u001b[38;5;124m\"\u001b[39m\u001b[38;5;124mdtype\u001b[39m\u001b[38;5;124m\"\u001b[39m, \u001b[38;5;28;01mNone\u001b[39;00m) \u001b[38;5;241m==\u001b[39m \u001b[38;5;28mbool\u001b[39m:\n",
      "File \u001b[1;32mD:\\anaconda\\Lib\\site-packages\\pandas\\core\\indexes\\base.py:6070\u001b[0m, in \u001b[0;36mIndex._get_indexer_strict\u001b[1;34m(self, key, axis_name)\u001b[0m\n\u001b[0;32m   6067\u001b[0m \u001b[38;5;28;01melse\u001b[39;00m:\n\u001b[0;32m   6068\u001b[0m     keyarr, indexer, new_indexer \u001b[38;5;241m=\u001b[39m \u001b[38;5;28mself\u001b[39m\u001b[38;5;241m.\u001b[39m_reindex_non_unique(keyarr)\n\u001b[1;32m-> 6070\u001b[0m \u001b[38;5;28mself\u001b[39m\u001b[38;5;241m.\u001b[39m_raise_if_missing(keyarr, indexer, axis_name)\n\u001b[0;32m   6072\u001b[0m keyarr \u001b[38;5;241m=\u001b[39m \u001b[38;5;28mself\u001b[39m\u001b[38;5;241m.\u001b[39mtake(indexer)\n\u001b[0;32m   6073\u001b[0m \u001b[38;5;28;01mif\u001b[39;00m \u001b[38;5;28misinstance\u001b[39m(key, Index):\n\u001b[0;32m   6074\u001b[0m     \u001b[38;5;66;03m# GH 42790 - Preserve name from an Index\u001b[39;00m\n",
      "File \u001b[1;32mD:\\anaconda\\Lib\\site-packages\\pandas\\core\\indexes\\base.py:6133\u001b[0m, in \u001b[0;36mIndex._raise_if_missing\u001b[1;34m(self, key, indexer, axis_name)\u001b[0m\n\u001b[0;32m   6130\u001b[0m     \u001b[38;5;28;01mraise\u001b[39;00m \u001b[38;5;167;01mKeyError\u001b[39;00m(\u001b[38;5;124mf\u001b[39m\u001b[38;5;124m\"\u001b[39m\u001b[38;5;124mNone of [\u001b[39m\u001b[38;5;132;01m{\u001b[39;00mkey\u001b[38;5;132;01m}\u001b[39;00m\u001b[38;5;124m] are in the [\u001b[39m\u001b[38;5;132;01m{\u001b[39;00maxis_name\u001b[38;5;132;01m}\u001b[39;00m\u001b[38;5;124m]\u001b[39m\u001b[38;5;124m\"\u001b[39m)\n\u001b[0;32m   6132\u001b[0m not_found \u001b[38;5;241m=\u001b[39m \u001b[38;5;28mlist\u001b[39m(ensure_index(key)[missing_mask\u001b[38;5;241m.\u001b[39mnonzero()[\u001b[38;5;241m0\u001b[39m]]\u001b[38;5;241m.\u001b[39munique())\n\u001b[1;32m-> 6133\u001b[0m \u001b[38;5;28;01mraise\u001b[39;00m \u001b[38;5;167;01mKeyError\u001b[39;00m(\u001b[38;5;124mf\u001b[39m\u001b[38;5;124m\"\u001b[39m\u001b[38;5;132;01m{\u001b[39;00mnot_found\u001b[38;5;132;01m}\u001b[39;00m\u001b[38;5;124m not in index\u001b[39m\u001b[38;5;124m\"\u001b[39m)\n",
      "\u001b[1;31mKeyError\u001b[0m: \"['2010'] not in index\""
     ]
    }
   ],
   "source": [
    "#10.В якому регіоні була найвища народжуваність у 2010 та 2012 роках (окремо). \n",
    "data_2010 = df[['регіон', '2010']].max()\n",
    "max_2012 =  df['2012'].idxmax()\n",
    "max_region_2012 = df.loc[max_2012]['регіон']\n",
    "\n",
    "print(\"Регіон з найвищою народжуваністю у 2012 році:\", max_region_2012)\n"
   ]
  },
  {
   "cell_type": "code",
   "execution_count": 29,
   "id": "09d33248",
   "metadata": {},
   "outputs": [
    {
     "data": {
      "text/plain": [
       "<Axes: >"
      ]
     },
     "execution_count": 29,
     "metadata": {},
     "output_type": "execute_result"
    },
    {
     "data": {
      "image/png": "[encoded data removed]",
      "text/plain": [
       "<Figure size 640x480 with 1 Axes>"
      ]
     },
     "metadata": {},
     "output_type": "display_data"
    }
   ],
   "source": [
    "#11.Побудуйте стовпчасту народжуваності за регіонами у 2014 році \n",
    "df['2014'].plot(kind='bar', x=df['регіон'])"
   ]
  },
  {
   "cell_type": "code",
   "execution_count": null,
   "id": "aa329f7d",
   "metadata": {},
   "outputs": [],
   "source": []
  }
 ],
 "metadata": {
  "kernelspec": {
   "display_name": "Python 3 (ipykernel)",
   "language": "python",
   "name": "python3"
  },
  "language_info": {
   "codemirror_mode": {
    "name": "ipython",
    "version": 3
   },
   "file_extension": ".py",
   "mimetype": "text/x-python",
   "name": "python",
   "nbconvert_exporter": "python",
   "pygments_lexer": "ipython3",
   "version": "3.11.4"
  }
 },
 "nbformat": 4,
 "nbformat_minor": 5
}
