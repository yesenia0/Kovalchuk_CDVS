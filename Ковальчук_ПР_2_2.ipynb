{
 "cells": [
  {
   "cell_type": "markdown",
   "id": "26d9d304",
   "metadata": {},
   "source": [
    "# Завдання 2"
   ]
  },
  {
   "cell_type": "code",
   "execution_count": 1,
   "id": "040670f4",
   "metadata": {},
   "outputs": [],
   "source": [
    "#1"
   ]
  },
  {
   "cell_type": "code",
   "execution_count": 2,
   "id": "acea4268",
   "metadata": {},
   "outputs": [],
   "source": [
    "import pandas as pd"
   ]
  },
  {
   "cell_type": "code",
   "execution_count": 3,
   "id": "0aebaa95",
   "metadata": {},
   "outputs": [],
   "source": [
    "df = pd.read_csv(\"C:\\\\Users\\\\E L I T E B O O K\\\\Downloads\\\\bestsellers with categories.csv\")"
   ]
  },
  {
   "cell_type": "code",
   "execution_count": 4,
   "id": "02c1dc39",
   "metadata": {},
   "outputs": [],
   "source": [
    "#2"
   ]
  },
  {
   "cell_type": "code",
   "execution_count": 5,
   "id": "425a048e",
   "metadata": {},
   "outputs": [
    {
     "name": "stdout",
     "output_type": "stream",
     "text": [
      "                                                Name  \\\n",
      "0                      10-Day Green Smoothie Cleanse   \n",
      "1                                  11/22/63: A Novel   \n",
      "2            12 Rules for Life: An Antidote to Chaos   \n",
      "3                             1984 (Signet Classics)   \n",
      "4  5,000 Awesome Facts (About Everything!) (Natio...   \n",
      "5      A Dance with Dragons (A Song of Ice and Fire)   \n",
      "6  A Game of Thrones / A Clash of Kings / A Storm...   \n",
      "7                     A Gentleman in Moscow: A Novel   \n",
      "8      A Higher Loyalty: Truth, Lies, and Leadership   \n",
      "9                          A Man Called Ove: A Novel   \n",
      "\n",
      "                     Author  User Rating  Reviews  Price  Year        Genre  \n",
      "0                  JJ Smith          4.7    17350      8  2016  Non Fiction  \n",
      "1              Stephen King          4.6     2052     22  2011      Fiction  \n",
      "2        Jordan B. Peterson          4.7    18979     15  2018  Non Fiction  \n",
      "3             George Orwell          4.7    21424      6  2017      Fiction  \n",
      "4  National Geographic Kids          4.8     7665     12  2019  Non Fiction  \n",
      "5       George R. R. Martin          4.4    12643     11  2011      Fiction  \n",
      "6       George R. R. Martin          4.7    19735     30  2014      Fiction  \n",
      "7               Amor Towles          4.7    19699     15  2017      Fiction  \n",
      "8               James Comey          4.7     5983      3  2018  Non Fiction  \n",
      "9           Fredrik Backman          4.6    23848      8  2016      Fiction  \n"
     ]
    }
   ],
   "source": [
    "print(df.head(10))"
   ]
  },
  {
   "cell_type": "code",
   "execution_count": 6,
   "id": "2ac8eaca",
   "metadata": {},
   "outputs": [],
   "source": [
    "#3"
   ]
  },
  {
   "cell_type": "code",
   "execution_count": 7,
   "id": "ac633c0c",
   "metadata": {},
   "outputs": [
    {
     "name": "stdout",
     "output_type": "stream",
     "text": [
      "Розмір датасета: (550, 7)\n"
     ]
    }
   ],
   "source": [
    "shape = df.shape\n",
    "print(\"Розмір датасета:\", shape)"
   ]
  },
  {
   "cell_type": "code",
   "execution_count": 8,
   "id": "db839664",
   "metadata": {},
   "outputs": [
    {
     "name": "stdout",
     "output_type": "stream",
     "text": [
      "Number of unique book titles: 351\n"
     ]
    }
   ],
   "source": [
    "unique_book_titles = df['Name'].unique()\n",
    "number_of_unique_titles = len(unique_book_titles)\n",
    "\n",
    "print(\"Number of unique book titles:\", number_of_unique_titles)"
   ]
  },
  {
   "cell_type": "code",
   "execution_count": 9,
   "id": "9af2467c",
   "metadata": {},
   "outputs": [],
   "source": [
    "#Датасет зберігає 351 книг"
   ]
  },
  {
   "cell_type": "code",
   "execution_count": 10,
   "id": "c01c5186",
   "metadata": {},
   "outputs": [],
   "source": [
    "#4"
   ]
  },
  {
   "cell_type": "code",
   "execution_count": 11,
   "id": "239b9efa",
   "metadata": {},
   "outputs": [],
   "source": [
    "df.columns = ['name', 'author', 'user_rating', 'reviews', 'price', 'year', 'genre'] "
   ]
  },
  {
   "cell_type": "code",
   "execution_count": 12,
   "id": "cff60d06",
   "metadata": {},
   "outputs": [],
   "source": [
    "#5"
   ]
  },
  {
   "cell_type": "code",
   "execution_count": 13,
   "id": "24b9e397",
   "metadata": {},
   "outputs": [
    {
     "name": "stdout",
     "output_type": "stream",
     "text": [
      "name           0\n",
      "author         0\n",
      "user_rating    0\n",
      "reviews        0\n",
      "price          0\n",
      "year           0\n",
      "genre          0\n",
      "dtype: int64\n"
     ]
    }
   ],
   "source": [
    "missing_values_per_column = df.isnull().sum()\n",
    "print(missing_values_per_column)"
   ]
  },
  {
   "cell_type": "code",
   "execution_count": 14,
   "id": "73dc126e",
   "metadata": {},
   "outputs": [],
   "source": [
    "#Чи є в якихось змінних пропуски? НІ"
   ]
  },
  {
   "cell_type": "code",
   "execution_count": 15,
   "id": "f3aec882",
   "metadata": {},
   "outputs": [],
   "source": [
    "#6"
   ]
  },
  {
   "cell_type": "code",
   "execution_count": 16,
   "id": "6d21287e",
   "metadata": {},
   "outputs": [
    {
     "name": "stdout",
     "output_type": "stream",
     "text": [
      "Унікальні жанри: ['Non Fiction' 'Fiction']\n"
     ]
    }
   ],
   "source": [
    "уnique_genres = df['genre'].unique()\n",
    "print(\"Унікальні жанри:\", уnique_genres)"
   ]
  },
  {
   "cell_type": "code",
   "execution_count": 17,
   "id": "c05ed659",
   "metadata": {},
   "outputs": [],
   "source": [
    "#7"
   ]
  },
  {
   "cell_type": "code",
   "execution_count": 18,
   "id": "f908e8cd",
   "metadata": {},
   "outputs": [
    {
     "name": "stdout",
     "output_type": "stream",
     "text": [
      "Максимальна ціна: 105\n",
      "Мінімальна ціна: 0\n",
      "Середня ціна: 13.1\n",
      "Медіанна ціна: 11.0\n"
     ]
    }
   ],
   "source": [
    "max_price = df['price'].max()\n",
    "min_price = df['price'].min()\n",
    "mean_price = df['price'].mean()\n",
    "median_price = df['price'].median()\n",
    "\n",
    "print(\"Максимальна ціна:\", max_price)\n",
    "print(\"Мінімальна ціна:\", min_price)\n",
    "print(\"Середня ціна:\", mean_price)\n",
    "print(\"Медіанна ціна:\", median_price)\n"
   ]
  },
  {
   "cell_type": "code",
   "execution_count": 19,
   "id": "1a93ee97",
   "metadata": {},
   "outputs": [],
   "source": [
    "#8"
   ]
  },
  {
   "cell_type": "code",
   "execution_count": 20,
   "id": "fd66e7d7",
   "metadata": {},
   "outputs": [
    {
     "name": "stdout",
     "output_type": "stream",
     "text": [
      "Найвищий рейтинг у датасеті: 4.9\n"
     ]
    }
   ],
   "source": [
    "max_rating = df['user_rating'].max()\n",
    "print(\"Найвищий рейтинг у датасеті:\", max_rating)"
   ]
  },
  {
   "cell_type": "code",
   "execution_count": 21,
   "id": "ee8f9032",
   "metadata": {},
   "outputs": [
    {
     "name": "stdout",
     "output_type": "stream",
     "text": [
      "Кількість книг із максимальним рейтингом : 52\n"
     ]
    }
   ],
   "source": [
    "books_max_rating = (df['user_rating'] == max_rating).sum()\n",
    "\n",
    "print(\"Кількість книг із максимальним рейтингом\", \":\", books_max_rating)"
   ]
  },
  {
   "cell_type": "code",
   "execution_count": 22,
   "id": "fb3749ff",
   "metadata": {},
   "outputs": [
    {
     "name": "stdout",
     "output_type": "stream",
     "text": [
      "Книга з найбільшою кількістю відгуків:\n",
      "name           Where the Crawdads Sing\n",
      "author                     Delia Owens\n",
      "user_rating                        4.8\n",
      "reviews                          87841\n",
      "price                               15\n",
      "year                              2019\n",
      "genre                          Fiction\n",
      "Name: 534, dtype: object\n"
     ]
    }
   ],
   "source": [
    "id_max_reviews = df['reviews'].idxmax()\n",
    "\n",
    "book_max_reviews = df.loc[id_max_reviews]\n",
    "\n",
    "print(\"Книга з найбільшою кількістю відгуків:\")\n",
    "print(book_max_reviews)"
   ]
  },
  {
   "cell_type": "code",
   "execution_count": 23,
   "id": "dd1c997d",
   "metadata": {},
   "outputs": [
    {
     "name": "stdout",
     "output_type": "stream",
     "text": [
      "Найдорожча книга серед книг, що потрапили до Топ-50 у 2010 році:\n",
      "name           Publication Manual of the American Psychologic...\n",
      "author                        American Psychological Association\n",
      "user_rating                                                  4.5\n",
      "reviews                                                     8580\n",
      "price                                                         46\n",
      "year                                                        2010\n",
      "genre                                                Non Fiction\n",
      "Name: 272, dtype: object\n"
     ]
    }
   ],
   "source": [
    "top_50_2010 = df[(df['year'] == 2010) & (df['user_rating'] >= 4.5)]\n",
    "expensive_book_2010 = top_50_2010.loc[top_50_2010['price'].idxmax()]\n",
    "print(\"Найдорожча книга серед книг, що потрапили до Топ-50 у 2010 році:\")\n",
    "print(expensive_book_2010)"
   ]
  },
  {
   "cell_type": "code",
   "execution_count": 24,
   "id": "f7ae8a8f",
   "metadata": {},
   "outputs": [
    {
     "name": "stdout",
     "output_type": "stream",
     "text": [
      "Кількість книг жанру Fiction, які потрапили до Топ-50 у 2012 році: 21\n"
     ]
    }
   ],
   "source": [
    "fiction_2012 = df[(df['year'] == 2012) & (df['genre'] == 'Fiction')]\n",
    "books_fiction_2012 = fiction_2012.shape[0]\n",
    "print(\"Кількість книг жанру Fiction, які потрапили до Топ-50 у 2012 році:\", books_fiction_2012)"
   ]
  },
  {
   "cell_type": "code",
   "execution_count": 25,
   "id": "f972a424",
   "metadata": {},
   "outputs": [
    {
     "name": "stdout",
     "output_type": "stream",
     "text": [
      "Кількість книг з рейтингом 4.9, які потрапили до рейтингу у 2010 або 2011 роках: 1\n"
     ]
    }
   ],
   "source": [
    "condition = (df['user_rating'] == 4.9) & (df['year'].isin([2010, 2011]))\n",
    "\n",
    "books_2010_2011 = df[condition].shape[0]\n",
    "\n",
    "print(\"Кількість книг з рейтингом 4.9, які потрапили до рейтингу у 2010 або 2011 роках:\", books_2010_2011)"
   ]
  },
  {
   "cell_type": "code",
   "execution_count": 26,
   "id": "f4f9e339",
   "metadata": {},
   "outputs": [],
   "source": [
    "#9"
   ]
  },
  {
   "cell_type": "code",
   "execution_count": 27,
   "id": "4e6b0672",
   "metadata": {},
   "outputs": [
    {
     "name": "stdout",
     "output_type": "stream",
     "text": [
      "             Максимальна ціна  Мінімальна ціна\n",
      "genre                                         \n",
      "Fiction                    82                0\n",
      "Non Fiction               105                0\n"
     ]
    }
   ],
   "source": [
    "df_subset = df[['genre', 'price']]\n",
    "result = df_subset.groupby('genre').agg({'price': ['max', 'min']})\n",
    "result.columns = ['Максимальна ціна', 'Мінімальна ціна']\n",
    "print(result)"
   ]
  },
  {
   "cell_type": "code",
   "execution_count": null,
   "id": "c3e226d0",
   "metadata": {},
   "outputs": [],
   "source": []
  }
 ],
 "metadata": {
  "kernelspec": {
   "display_name": "Python 3 (ipykernel)",
   "language": "python",
   "name": "python3"
  },
  "language_info": {
   "codemirror_mode": {
    "name": "ipython",
    "version": 3
   },
   "file_extension": ".py",
   "mimetype": "text/x-python",
   "name": "python",
   "nbconvert_exporter": "python",
   "pygments_lexer": "ipython3",
   "version": "3.11.4"
  }
 },
 "nbformat": 4,
 "nbformat_minor": 5
}
